{
  "nbformat": 4,
  "nbformat_minor": 0,
  "metadata": {
    "colab": {
      "provenance": [],
      "collapsed_sections": [
        "wun_Df06o4xd",
        "zW6i2uTqqfzV",
        "7eYnApk_rS78",
        "CsjLVdRCs7cr",
        "EqtoxKtbMP9W",
        "gwwpPm2LRXES"
      ]
    },
    "kernelspec": {
      "name": "python3",
      "display_name": "Python 3"
    },
    "language_info": {
      "name": "python"
    }
  },
  "cells": [
    {
      "cell_type": "markdown",
      "source": [
        "##Operadores Aritiméticos"
      ],
      "metadata": {
        "id": "wun_Df06o4xd"
      }
    },
    {
      "cell_type": "code",
      "source": [
        "# Adição\n",
        "5 + 2"
      ],
      "metadata": {
        "colab": {
          "base_uri": "https://localhost:8080/"
        },
        "id": "UWxWlNSeo990",
        "outputId": "56b5a88b-103c-479e-a699-ed7df27b8a3c"
      },
      "execution_count": null,
      "outputs": [
        {
          "output_type": "execute_result",
          "data": {
            "text/plain": [
              "7"
            ]
          },
          "metadata": {},
          "execution_count": 3
        }
      ]
    },
    {
      "cell_type": "code",
      "source": [
        "# Subtração\n",
        "5 - 2"
      ],
      "metadata": {
        "colab": {
          "base_uri": "https://localhost:8080/"
        },
        "id": "dJH5HofBpeng",
        "outputId": "adbd9a83-3864-40e0-db24-b9e70fefe4ff"
      },
      "execution_count": null,
      "outputs": [
        {
          "output_type": "execute_result",
          "data": {
            "text/plain": [
              "3"
            ]
          },
          "metadata": {},
          "execution_count": 4
        }
      ]
    },
    {
      "cell_type": "code",
      "source": [
        "# Multiplicação\n",
        "5 * 2"
      ],
      "metadata": {
        "colab": {
          "base_uri": "https://localhost:8080/"
        },
        "id": "47OIxCgEpzqw",
        "outputId": "c8fba75a-f684-4ba6-97fe-bf48bd49f213"
      },
      "execution_count": null,
      "outputs": [
        {
          "output_type": "execute_result",
          "data": {
            "text/plain": [
              "10"
            ]
          },
          "metadata": {},
          "execution_count": 5
        }
      ]
    },
    {
      "cell_type": "code",
      "source": [
        "# Divisão\n",
        "5 / 2"
      ],
      "metadata": {
        "colab": {
          "base_uri": "https://localhost:8080/"
        },
        "id": "9Femwqzip7C0",
        "outputId": "b0c15011-ec2b-4131-d4fa-a5e738ad4946"
      },
      "execution_count": null,
      "outputs": [
        {
          "output_type": "execute_result",
          "data": {
            "text/plain": [
              "2.5"
            ]
          },
          "metadata": {},
          "execution_count": 6
        }
      ]
    },
    {
      "cell_type": "code",
      "source": [
        "# Divisão Inteira\n",
        "5 // 2"
      ],
      "metadata": {
        "colab": {
          "base_uri": "https://localhost:8080/"
        },
        "id": "YvSfKJhEp-_E",
        "outputId": "4ddd7aee-3080-4305-ce2c-50c0a5e2fa23"
      },
      "execution_count": null,
      "outputs": [
        {
          "output_type": "execute_result",
          "data": {
            "text/plain": [
              "2"
            ]
          },
          "metadata": {},
          "execution_count": 7
        }
      ]
    },
    {
      "cell_type": "code",
      "source": [
        "# Resto da Divisão\n",
        "5 % 2"
      ],
      "metadata": {
        "colab": {
          "base_uri": "https://localhost:8080/"
        },
        "id": "envKJRdwqDlS",
        "outputId": "351f6571-ea66-4c86-9e46-92d175b1330e"
      },
      "execution_count": null,
      "outputs": [
        {
          "output_type": "execute_result",
          "data": {
            "text/plain": [
              "1"
            ]
          },
          "metadata": {},
          "execution_count": 10
        }
      ]
    },
    {
      "cell_type": "code",
      "source": [
        "# Potenciação\n",
        "5 ** 2"
      ],
      "metadata": {
        "colab": {
          "base_uri": "https://localhost:8080/"
        },
        "id": "H-qkC5BaqJKL",
        "outputId": "f2d62d74-42c8-468f-b1f3-3a83526f8279"
      },
      "execution_count": null,
      "outputs": [
        {
          "output_type": "execute_result",
          "data": {
            "text/plain": [
              "25"
            ]
          },
          "metadata": {},
          "execution_count": 11
        }
      ]
    },
    {
      "cell_type": "markdown",
      "source": [
        "## Operadores Relacionais"
      ],
      "metadata": {
        "id": "zW6i2uTqqfzV"
      }
    },
    {
      "cell_type": "code",
      "source": [
        "# Menor\n",
        "1 < 2"
      ],
      "metadata": {
        "colab": {
          "base_uri": "https://localhost:8080/"
        },
        "id": "LrVj5uSuqmhQ",
        "outputId": "65acdb8d-c488-4fb9-92ee-94fed3a51a8d"
      },
      "execution_count": null,
      "outputs": [
        {
          "output_type": "execute_result",
          "data": {
            "text/plain": [
              "True"
            ]
          },
          "metadata": {},
          "execution_count": 12
        }
      ]
    },
    {
      "cell_type": "code",
      "source": [
        "# Menor ou Igual\n",
        "1 <= 10"
      ],
      "metadata": {
        "colab": {
          "base_uri": "https://localhost:8080/"
        },
        "id": "wFnK0S1YqsoB",
        "outputId": "d172ef1c-5362-4747-b23e-8455963c917e"
      },
      "execution_count": null,
      "outputs": [
        {
          "output_type": "execute_result",
          "data": {
            "text/plain": [
              "True"
            ]
          },
          "metadata": {},
          "execution_count": 14
        }
      ]
    },
    {
      "cell_type": "code",
      "source": [
        "# Maior\n",
        "2 > 1"
      ],
      "metadata": {
        "colab": {
          "base_uri": "https://localhost:8080/"
        },
        "id": "uv774ZndqyEB",
        "outputId": "c4d243b0-6797-4f90-a35b-214fd7fc1899"
      },
      "execution_count": null,
      "outputs": [
        {
          "output_type": "execute_result",
          "data": {
            "text/plain": [
              "True"
            ]
          },
          "metadata": {},
          "execution_count": 15
        }
      ]
    },
    {
      "cell_type": "code",
      "source": [
        "#Maior ou Igual\n",
        "2 >= 2"
      ],
      "metadata": {
        "colab": {
          "base_uri": "https://localhost:8080/"
        },
        "id": "fvS2_IR2q4Ah",
        "outputId": "62068022-e883-4d6e-a5aa-d45b1d541ebf"
      },
      "execution_count": null,
      "outputs": [
        {
          "output_type": "execute_result",
          "data": {
            "text/plain": [
              "True"
            ]
          },
          "metadata": {},
          "execution_count": 16
        }
      ]
    },
    {
      "cell_type": "code",
      "source": [
        "# Igual\n",
        "5 == 5"
      ],
      "metadata": {
        "colab": {
          "base_uri": "https://localhost:8080/"
        },
        "id": "lHb4kTM_q-ZM",
        "outputId": "fb9c4662-3a08-4acd-cb1a-b2d5b6b0cb08"
      },
      "execution_count": null,
      "outputs": [
        {
          "output_type": "execute_result",
          "data": {
            "text/plain": [
              "True"
            ]
          },
          "metadata": {},
          "execution_count": 17
        }
      ]
    },
    {
      "cell_type": "code",
      "source": [
        "# Diferente\n",
        "5 != 8"
      ],
      "metadata": {
        "colab": {
          "base_uri": "https://localhost:8080/"
        },
        "id": "PbFLVMfKrDNC",
        "outputId": "ebea3f2e-f9da-4eb4-a18d-bc75d11324f9"
      },
      "execution_count": null,
      "outputs": [
        {
          "output_type": "execute_result",
          "data": {
            "text/plain": [
              "True"
            ]
          },
          "metadata": {},
          "execution_count": 18
        }
      ]
    },
    {
      "cell_type": "markdown",
      "source": [
        "## Operadores Lógicos"
      ],
      "metadata": {
        "id": "7eYnApk_rS78"
      }
    },
    {
      "cell_type": "markdown",
      "source": [
        "\n",
        "\n",
        "*   And  -> Tradução -> E\n",
        "*   Or   -> Tradução -> Ou\n",
        "*   Not  -> Tradução -> Não\n",
        "\n",
        "\n",
        "\n",
        "\n"
      ],
      "metadata": {
        "id": "9bIIWtBYr-Lr"
      }
    },
    {
      "cell_type": "markdown",
      "source": [
        "## Tabela Verdade"
      ],
      "metadata": {
        "id": "CsjLVdRCs7cr"
      }
    },
    {
      "cell_type": "markdown",
      "source": [
        "And  -----> Em caso de True And False , sempre será False"
      ],
      "metadata": {
        "id": "MhKLtsp3tPhy"
      }
    },
    {
      "cell_type": "code",
      "source": [
        "print(2 > 1 and 5 < 8)   # True and True = True\n",
        "print(2 > 1 and 5 > 8)   # True and False = False\n",
        "print(2 < 1 and 5 < 8)   # False and True = False\n",
        "print(2 < 1 and 5 > 8)   # False and False = False"
      ],
      "metadata": {
        "colab": {
          "base_uri": "https://localhost:8080/"
        },
        "id": "qE3veMvRtRjk",
        "outputId": "23f55172-6f83-4c77-c970-ceb5cfbe9c7d"
      },
      "execution_count": null,
      "outputs": [
        {
          "output_type": "stream",
          "name": "stdout",
          "text": [
            "True\n",
            "False\n",
            "False\n",
            "False\n"
          ]
        }
      ]
    },
    {
      "cell_type": "markdown",
      "source": [
        "Or ---> Em caso de True And False , sempre será True"
      ],
      "metadata": {
        "id": "OHs2in00nFhp"
      }
    },
    {
      "cell_type": "code",
      "source": [
        "print(2 > 1 or 5 < 8)   #True Or True = True\n",
        "print(2 > 1 or 5 > 8)   #True Or False = True\n",
        "print(2 < 1 or 5 < 8)   #False Or True = True\n",
        "print(2 < 1 or 5 > 8)   #False Or False = False"
      ],
      "metadata": {
        "colab": {
          "base_uri": "https://localhost:8080/"
        },
        "id": "Bs3_FdwwnH0b",
        "outputId": "e99862ae-cb26-4c7f-ca08-8427875e19ec"
      },
      "execution_count": null,
      "outputs": [
        {
          "output_type": "stream",
          "name": "stdout",
          "text": [
            "True\n",
            "True\n",
            "True\n",
            "False\n"
          ]
        }
      ]
    },
    {
      "cell_type": "markdown",
      "source": [
        "Not ---> Sempre irá inverter a resposta."
      ],
      "metadata": {
        "id": "tA4itg7Po4rQ"
      }
    },
    {
      "cell_type": "code",
      "source": [
        "not 2 > 1   #True = False"
      ],
      "metadata": {
        "colab": {
          "base_uri": "https://localhost:8080/"
        },
        "id": "8VtvWxpQo79C",
        "outputId": "e9efec60-7e7c-44cf-dcfa-3888c8672680"
      },
      "execution_count": null,
      "outputs": [
        {
          "output_type": "execute_result",
          "data": {
            "text/plain": [
              "False"
            ]
          },
          "metadata": {},
          "execution_count": 2
        }
      ]
    },
    {
      "cell_type": "code",
      "source": [
        "not 1 > 2   #False = True"
      ],
      "metadata": {
        "colab": {
          "base_uri": "https://localhost:8080/"
        },
        "id": "NfN3OvxrpOXo",
        "outputId": "919701d6-9240-45e1-b92d-60f829cf7cde"
      },
      "execution_count": null,
      "outputs": [
        {
          "output_type": "execute_result",
          "data": {
            "text/plain": [
              "True"
            ]
          },
          "metadata": {},
          "execution_count": 5
        }
      ]
    },
    {
      "cell_type": "markdown",
      "source": [
        "## Variáveis"
      ],
      "metadata": {
        "id": "EqtoxKtbMP9W"
      }
    },
    {
      "cell_type": "code",
      "source": [
        "print(\"Conhecendo o comando print!\\n\")\n",
        "\n",
        "x = 2\n",
        "\n",
        "print(x)"
      ],
      "metadata": {
        "colab": {
          "base_uri": "https://localhost:8080/"
        },
        "id": "8PSgCEd3MrR4",
        "outputId": "144d9e15-87cf-4fe4-f402-2a0985d04eb6"
      },
      "execution_count": null,
      "outputs": [
        {
          "output_type": "stream",
          "name": "stdout",
          "text": [
            "Conhecendo o comando print!\n",
            "\n",
            "2\n"
          ]
        }
      ]
    },
    {
      "cell_type": "code",
      "source": [
        "y = 10\n",
        "soma = x + y\n",
        "print(soma)"
      ],
      "metadata": {
        "colab": {
          "base_uri": "https://localhost:8080/"
        },
        "id": "TjtmOvy2P--x",
        "outputId": "e4354077-d718-48f6-ce7c-ea0afa92c909"
      },
      "execution_count": null,
      "outputs": [
        {
          "output_type": "stream",
          "name": "stdout",
          "text": [
            "12\n"
          ]
        }
      ]
    },
    {
      "cell_type": "code",
      "source": [
        "nome = \"Pedro Henrique\"\n",
        "\n",
        "print(nome)"
      ],
      "metadata": {
        "colab": {
          "base_uri": "https://localhost:8080/"
        },
        "id": "8HF_dcSDQOmO",
        "outputId": "caf46eb9-696f-4add-f03d-07bbaff7eef3"
      },
      "execution_count": null,
      "outputs": [
        {
          "output_type": "stream",
          "name": "stdout",
          "text": [
            "Pedro Henrique\n"
          ]
        }
      ]
    },
    {
      "cell_type": "markdown",
      "source": [
        "Concatenação"
      ],
      "metadata": {
        "id": "LwzyGn_ppOE7"
      }
    },
    {
      "cell_type": "code",
      "source": [
        "x = 5\n",
        "print(\"O valor de X é\", x , \"!\\n\")"
      ],
      "metadata": {
        "colab": {
          "base_uri": "https://localhost:8080/"
        },
        "id": "QWWw0ETpQ35y",
        "outputId": "52cd5468-98f8-4d1e-a4fa-51b81dd367df"
      },
      "execution_count": null,
      "outputs": [
        {
          "output_type": "stream",
          "name": "stdout",
          "text": [
            "O valor de X é 5 !\n",
            "\n"
          ]
        }
      ]
    },
    {
      "cell_type": "code",
      "source": [
        "print(\"O valor de x é\", x , \"e o dobro é\" , x * 2)"
      ],
      "metadata": {
        "colab": {
          "base_uri": "https://localhost:8080/"
        },
        "id": "5AsSciQOpbVx",
        "outputId": "b1dc005a-0883-496f-9415-b40215cc4c61"
      },
      "execution_count": null,
      "outputs": [
        {
          "output_type": "stream",
          "name": "stdout",
          "text": [
            "O valor de x é 5 e o dobro é 10\n"
          ]
        }
      ]
    },
    {
      "cell_type": "code",
      "source": [
        "print(\"Eu\" , nome , \"tirei\" , x , \"na prova de Python\")"
      ],
      "metadata": {
        "colab": {
          "base_uri": "https://localhost:8080/"
        },
        "id": "s4Njnhxlruvp",
        "outputId": "a7206bc2-9382-4263-b5dc-90277ffabc61"
      },
      "execution_count": null,
      "outputs": [
        {
          "output_type": "stream",
          "name": "stdout",
          "text": [
            "Eu Pedro Henrique tirei 5 na prova de Python\n"
          ]
        }
      ]
    },
    {
      "cell_type": "code",
      "source": [
        "y = 10 ; z = 20 + x - y\n",
        "print(\"O valor da linha de cima é:\" , y , z)"
      ],
      "metadata": {
        "colab": {
          "base_uri": "https://localhost:8080/"
        },
        "id": "vWayjvw1sSQ6",
        "outputId": "083de278-f7cb-4dfd-88a1-fc47475c72b3"
      },
      "execution_count": null,
      "outputs": [
        {
          "output_type": "stream",
          "name": "stdout",
          "text": [
            "O valor da linha de cima é: 10 15\n"
          ]
        }
      ]
    },
    {
      "cell_type": "markdown",
      "source": [
        "Type"
      ],
      "metadata": {
        "id": "NwrrsA3Hs2Kx"
      }
    },
    {
      "cell_type": "code",
      "source": [
        "x = 10\n",
        "type (x)\n",
        "print(\"x\", type (x))\n",
        "\n",
        "nome = \"Pedro\"\n",
        "print(\"nome\" , type (nome))\n",
        "\n",
        "num = \"100\"\n",
        "num_convert = int(num)\n",
        "print(\"Num\" , type(num))\n",
        "print(\"num_convert\" , type(num_convert))\n",
        "\n",
        "num_float = float(num)\n",
        "print(\"Num_Float\", num_float)\n",
        "\n"
      ],
      "metadata": {
        "colab": {
          "base_uri": "https://localhost:8080/"
        },
        "id": "NCmcgR45s4R0",
        "outputId": "298d3126-f076-4feb-fb22-58ed634d343a"
      },
      "execution_count": null,
      "outputs": [
        {
          "output_type": "stream",
          "name": "stdout",
          "text": [
            "x <class 'int'>\n",
            "nome <class 'str'>\n",
            "Num <class 'str'>\n",
            "num_convert <class 'int'>\n",
            "Num_Float 100.0\n"
          ]
        }
      ]
    },
    {
      "cell_type": "markdown",
      "source": [
        "Input\n",
        "\n",
        "*   Armazenar a informação digitada pela usuário em uma variável.\n",
        "*   O dado armazenado sempre será um texto.\n",
        "\n"
      ],
      "metadata": {
        "id": "Wk6Yspr5v9zR"
      }
    },
    {
      "cell_type": "code",
      "source": [
        "nome = input(\"Digite o nome do usuário:\")\n",
        "print(nome)"
      ],
      "metadata": {
        "colab": {
          "base_uri": "https://localhost:8080/"
        },
        "id": "uEswImOkwS8f",
        "outputId": "4a87f9f7-bb4b-420c-ff37-16f9fd3bc485"
      },
      "execution_count": null,
      "outputs": [
        {
          "output_type": "stream",
          "name": "stdout",
          "text": [
            "Digite o nome do usuário:pedro\n",
            "pedro\n"
          ]
        }
      ]
    },
    {
      "cell_type": "code",
      "source": [
        "valor = input(\"Digite sua nota:\")\n",
        "print(nome, \"sua nota é \" , valor ,)"
      ],
      "metadata": {
        "colab": {
          "base_uri": "https://localhost:8080/"
        },
        "id": "LIBMwLP-wfsD",
        "outputId": "a1bd5ba4-a686-4e11-b55c-19ecb29c3ca7"
      },
      "execution_count": null,
      "outputs": [
        {
          "output_type": "stream",
          "name": "stdout",
          "text": [
            "Digite sua nota:5\n",
            "pedro sua nota é  5\n"
          ]
        }
      ]
    },
    {
      "cell_type": "code",
      "source": [
        "valor = input(\"Digite o valor do produto:\")\n",
        "print(valor)"
      ],
      "metadata": {
        "colab": {
          "base_uri": "https://localhost:8080/"
        },
        "id": "Xdqib0aSwwyZ",
        "outputId": "c09a8669-0260-4520-d64d-5dba362008c3"
      },
      "execution_count": null,
      "outputs": [
        {
          "output_type": "stream",
          "name": "stdout",
          "text": [
            "Digite o valor do produto:100\n",
            "100\n"
          ]
        }
      ]
    },
    {
      "cell_type": "code",
      "source": [
        "desconto = int(valor) - 5\n",
        "print(desconto)"
      ],
      "metadata": {
        "colab": {
          "base_uri": "https://localhost:8080/"
        },
        "id": "uK7e2O_CxBa2",
        "outputId": "f76bad43-4275-41ae-c1c3-8ab1604b7d54"
      },
      "execution_count": null,
      "outputs": [
        {
          "output_type": "stream",
          "name": "stdout",
          "text": [
            "95\n"
          ]
        }
      ]
    },
    {
      "cell_type": "code",
      "source": [
        "desconto = int(valor) - 5\n",
        "print(desconto)"
      ],
      "metadata": {
        "colab": {
          "base_uri": "https://localhost:8080/"
        },
        "id": "pop7GJEVyKkl",
        "outputId": "dc710dec-8729-4fce-c3e5-550540c778d9"
      },
      "execution_count": null,
      "outputs": [
        {
          "output_type": "stream",
          "name": "stdout",
          "text": [
            "95\n"
          ]
        }
      ]
    },
    {
      "cell_type": "markdown",
      "source": [
        "##Condicional"
      ],
      "metadata": {
        "id": "gwwpPm2LRXES"
      }
    },
    {
      "cell_type": "code",
      "source": [
        "# if\n",
        "if 5 < 10 :\n",
        "  print('Falso')"
      ],
      "metadata": {
        "colab": {
          "base_uri": "https://localhost:8080/"
        },
        "id": "IFtMUSjsRbhk",
        "outputId": "11a6aa90-e433-4630-97c6-04547333d1de"
      },
      "execution_count": null,
      "outputs": [
        {
          "output_type": "stream",
          "name": "stdout",
          "text": [
            "Falso\n"
          ]
        }
      ]
    },
    {
      "cell_type": "code",
      "source": [
        "# if / else\n",
        "\n",
        "numero1 = 10\n",
        "numero2 = 5\n",
        "\n",
        "if numero1 < numero2 :\n",
        "  print('O ' , numero1 , 'é o maior numero')\n",
        "\n",
        "else:\n",
        "  print('O' , numero2 , ' é o menor numero')\n"
      ],
      "metadata": {
        "colab": {
          "base_uri": "https://localhost:8080/"
        },
        "id": "CKHp0CYVSPX6",
        "outputId": "3057a073-26c6-4e5a-f719-a3df4a80c834"
      },
      "execution_count": null,
      "outputs": [
        {
          "output_type": "stream",
          "name": "stdout",
          "text": [
            "O 5  é o menor numero\n"
          ]
        }
      ]
    },
    {
      "cell_type": "code",
      "source": [
        "# if / else / elif\n",
        "num1 = 50\n",
        "num2 = 50\n",
        "\n",
        "if num1 > num2:\n",
        "  print(\"O num1 é o maior numero\")\n",
        "elif num1 < num2 :\n",
        "  print(\"O num2 é o maior numero\")\n",
        "else:\n",
        "  print(\"Os numeros são iguais\")\n"
      ],
      "metadata": {
        "colab": {
          "base_uri": "https://localhost:8080/"
        },
        "id": "F5q15Z5sVlAu",
        "outputId": "81fd527a-2933-4b35-9781-783296dd15ee"
      },
      "execution_count": null,
      "outputs": [
        {
          "output_type": "stream",
          "name": "stdout",
          "text": [
            "Os numeros são iguais\n"
          ]
        }
      ]
    },
    {
      "cell_type": "markdown",
      "source": [
        "##Condicional com operadores lógicos"
      ],
      "metadata": {
        "id": "ZlSrejQXWqjB"
      }
    },
    {
      "cell_type": "code",
      "source": [
        "num1 = 10\n",
        "num2 = 5\n",
        "num3 = 2\n",
        "\n",
        "if (num1 > num2) and (num1 > num3):\n",
        "  print('O num1 é o maior numero')\n",
        "else:\n",
        "  print(\"O num3 é o maior numero\")\n",
        "\n"
      ],
      "metadata": {
        "colab": {
          "base_uri": "https://localhost:8080/"
        },
        "id": "hvzBQ09EWvyX",
        "outputId": "0b805a57-e9b1-4357-85d1-3f7b81eef8c5"
      },
      "execution_count": null,
      "outputs": [
        {
          "output_type": "stream",
          "name": "stdout",
          "text": [
            "O num1 é o maior numero\n"
          ]
        }
      ]
    },
    {
      "cell_type": "markdown",
      "source": [
        "##Lista\n"
      ],
      "metadata": {
        "id": "1RT0ns5gtXhV"
      }
    },
    {
      "cell_type": "code",
      "source": [
        "lista = [5, \"Rodrigo\" , 8.9]"
      ],
      "metadata": {
        "id": "C8DxV5YPtaz2"
      },
      "execution_count": null,
      "outputs": []
    },
    {
      "cell_type": "code",
      "source": [
        "type(lista)"
      ],
      "metadata": {
        "colab": {
          "base_uri": "https://localhost:8080/"
        },
        "id": "DV7u-fFytisQ",
        "outputId": "24db2f35-a198-4a0a-80ce-197f3c506d71"
      },
      "execution_count": null,
      "outputs": [
        {
          "output_type": "execute_result",
          "data": {
            "text/plain": [
              "list"
            ]
          },
          "metadata": {},
          "execution_count": 2
        }
      ]
    },
    {
      "cell_type": "code",
      "source": [
        "lista.append(\"Augusto\") # Adicionando um elemento a lista"
      ],
      "metadata": {
        "id": "dhGl08Yttk5I"
      },
      "execution_count": null,
      "outputs": []
    },
    {
      "cell_type": "code",
      "source": [
        "print(lista)\n",
        "print(lista[3])"
      ],
      "metadata": {
        "colab": {
          "base_uri": "https://localhost:8080/"
        },
        "id": "BCj78jg6tzdC",
        "outputId": "5148e17d-b78d-46e2-d6f0-648f82e1b89d"
      },
      "execution_count": null,
      "outputs": [
        {
          "output_type": "stream",
          "name": "stdout",
          "text": [
            "[5, 'Rodrigo', 8.9, 'Augusto']\n",
            "Augusto\n"
          ]
        }
      ]
    },
    {
      "cell_type": "markdown",
      "source": [
        "##Tupla"
      ],
      "metadata": {
        "id": "OkOywpmQuxyo"
      }
    },
    {
      "cell_type": "code",
      "source": [
        "tupla = (5, \"Rodrigo\" , 8.9)"
      ],
      "metadata": {
        "id": "dtX7DExxu0b-"
      },
      "execution_count": null,
      "outputs": []
    },
    {
      "cell_type": "code",
      "source": [
        "type(tupla)"
      ],
      "metadata": {
        "colab": {
          "base_uri": "https://localhost:8080/"
        },
        "id": "ZdD9-IbBu-Nl",
        "outputId": "16ca469a-9e8f-4c3c-f2e2-32c9170bd392"
      },
      "execution_count": null,
      "outputs": [
        {
          "output_type": "execute_result",
          "data": {
            "text/plain": [
              "tuple"
            ]
          },
          "metadata": {},
          "execution_count": 8
        }
      ]
    },
    {
      "cell_type": "code",
      "source": [
        "tupla.append(\"Augusto\")"
      ],
      "metadata": {
        "colab": {
          "base_uri": "https://localhost:8080/",
          "height": 141
        },
        "id": "aqRF2uOPvB4f",
        "outputId": "31f41d9e-c232-483d-c910-63e57cc2a698"
      },
      "execution_count": null,
      "outputs": [
        {
          "output_type": "error",
          "ename": "AttributeError",
          "evalue": "'tuple' object has no attribute 'append'",
          "traceback": [
            "\u001b[0;31m---------------------------------------------------------------------------\u001b[0m",
            "\u001b[0;31mAttributeError\u001b[0m                            Traceback (most recent call last)",
            "\u001b[0;32m<ipython-input-9-1bfa411e48f7>\u001b[0m in \u001b[0;36m<cell line: 0>\u001b[0;34m()\u001b[0m\n\u001b[0;32m----> 1\u001b[0;31m \u001b[0mtupla\u001b[0m\u001b[0;34m.\u001b[0m\u001b[0mappend\u001b[0m\u001b[0;34m(\u001b[0m\u001b[0;34m\"Augusto\"\u001b[0m\u001b[0;34m)\u001b[0m\u001b[0;34m\u001b[0m\u001b[0;34m\u001b[0m\u001b[0m\n\u001b[0m",
            "\u001b[0;31mAttributeError\u001b[0m: 'tuple' object has no attribute 'append'"
          ]
        }
      ]
    },
    {
      "cell_type": "code",
      "source": [
        "print(tupla)"
      ],
      "metadata": {
        "colab": {
          "base_uri": "https://localhost:8080/"
        },
        "id": "QXE143KzvKXE",
        "outputId": "d35099d1-6f3d-4f29-d0e5-ca27dd971c61"
      },
      "execution_count": null,
      "outputs": [
        {
          "output_type": "stream",
          "name": "stdout",
          "text": [
            "(5, 'Rodrigo', 8.9)\n"
          ]
        }
      ]
    },
    {
      "cell_type": "markdown",
      "source": [
        "##Dicionário"
      ],
      "metadata": {
        "id": "018jNo_PvTp3"
      }
    },
    {
      "cell_type": "code",
      "source": [
        "dicionario = {\"nome\":\"Pedro\",\"cidade\":\"Ituiutaba\"}"
      ],
      "metadata": {
        "id": "fGhFIMtdvV-P"
      },
      "execution_count": null,
      "outputs": []
    },
    {
      "cell_type": "code",
      "source": [
        "type(dicionario)"
      ],
      "metadata": {
        "colab": {
          "base_uri": "https://localhost:8080/"
        },
        "id": "IlOnsF5fwMIy",
        "outputId": "c9bbd934-fbd4-49e3-9a3f-29668b74e576"
      },
      "execution_count": null,
      "outputs": [
        {
          "output_type": "execute_result",
          "data": {
            "text/plain": [
              "dict"
            ]
          },
          "metadata": {},
          "execution_count": 15
        }
      ]
    },
    {
      "cell_type": "code",
      "source": [
        "print(dicionario)"
      ],
      "metadata": {
        "colab": {
          "base_uri": "https://localhost:8080/"
        },
        "id": "xi-gGleSwPdI",
        "outputId": "71f9a515-318b-48ed-b3bc-83645acd2be3"
      },
      "execution_count": null,
      "outputs": [
        {
          "output_type": "stream",
          "name": "stdout",
          "text": [
            "{'nome': 'Pedro', 'cidade': 'Ituiutaba'}\n"
          ]
        }
      ]
    },
    {
      "cell_type": "code",
      "source": [
        "print(dicionario[\"nome\"])"
      ],
      "metadata": {
        "colab": {
          "base_uri": "https://localhost:8080/"
        },
        "id": "HoT1HAqTwWTW",
        "outputId": "3f3a3470-d8ad-48ad-b961-1ad40ddd2367"
      },
      "execution_count": null,
      "outputs": [
        {
          "output_type": "stream",
          "name": "stdout",
          "text": [
            "Pedro\n"
          ]
        }
      ]
    },
    {
      "cell_type": "code",
      "source": [
        "dicionario[\"ultimo_nome\"] = \"Morais\""
      ],
      "metadata": {
        "id": "57LLZ_QTwfiZ"
      },
      "execution_count": null,
      "outputs": []
    },
    {
      "cell_type": "code",
      "source": [
        "print(dicionario)"
      ],
      "metadata": {
        "colab": {
          "base_uri": "https://localhost:8080/"
        },
        "id": "ZkleJIVcwl09",
        "outputId": "9b16c7dc-a8bf-4ea2-e257-41dd959c3f0b"
      },
      "execution_count": null,
      "outputs": [
        {
          "output_type": "stream",
          "name": "stdout",
          "text": [
            "{'nome': 'Pedro', 'cidade': 'Ituiutaba', 'ultimo_nome': 'Morais'}\n"
          ]
        }
      ]
    },
    {
      "cell_type": "markdown",
      "source": [
        "## Estrutura de repetição"
      ],
      "metadata": {
        "id": "HwVB-Qr351ad"
      }
    },
    {
      "cell_type": "markdown",
      "source": [
        "For"
      ],
      "metadata": {
        "id": "v2bTPyF96DGc"
      }
    },
    {
      "cell_type": "code",
      "source": [
        "# For - Range -> range para falar quantas vezes deve contar\n",
        "for contador in range(10):\n",
        "  print(contador)"
      ],
      "metadata": {
        "colab": {
          "base_uri": "https://localhost:8080/"
        },
        "id": "2BQv4uTU6Gxg",
        "outputId": "0b8e4294-3bc4-4272-f0d7-15ae776e68b7"
      },
      "execution_count": null,
      "outputs": [
        {
          "output_type": "stream",
          "name": "stdout",
          "text": [
            "0\n",
            "1\n",
            "2\n",
            "3\n",
            "4\n",
            "5\n",
            "6\n",
            "7\n",
            "8\n",
            "9\n"
          ]
        }
      ]
    },
    {
      "cell_type": "code",
      "source": [
        "# for ranger + break\n",
        "for contador in range(1000):\n",
        "  print(contador)\n",
        "  if contador == 7:\n",
        "    break"
      ],
      "metadata": {
        "colab": {
          "base_uri": "https://localhost:8080/"
        },
        "id": "w4xJZbVb6E2c",
        "outputId": "64ccf414-ec7e-42dc-a88a-ef3886383556"
      },
      "execution_count": null,
      "outputs": [
        {
          "output_type": "stream",
          "name": "stdout",
          "text": [
            "0\n",
            "1\n",
            "2\n",
            "3\n",
            "4\n",
            "5\n",
            "6\n",
            "7\n"
          ]
        }
      ]
    },
    {
      "cell_type": "code",
      "source": [
        "lista = [\"Teste1\",\"Teste2\"]"
      ],
      "metadata": {
        "id": "dXxTvV_97GXU"
      },
      "execution_count": null,
      "outputs": []
    },
    {
      "cell_type": "code",
      "source": [
        "# for simples\n",
        "for contador in lista:\n",
        "  print(contador)"
      ],
      "metadata": {
        "colab": {
          "base_uri": "https://localhost:8080/"
        },
        "id": "872Wdlpg7NQD",
        "outputId": "48ba90c2-1d8a-4b6f-d754-abc9d010efd1"
      },
      "execution_count": null,
      "outputs": [
        {
          "output_type": "stream",
          "name": "stdout",
          "text": [
            "Teste1\n",
            "Teste2\n"
          ]
        }
      ]
    },
    {
      "cell_type": "code",
      "source": [
        "# for com Enumerate\n",
        "for i , contador in enumerate(lista):\n",
        "  print(i,contador)"
      ],
      "metadata": {
        "colab": {
          "base_uri": "https://localhost:8080/"
        },
        "id": "ALnBtMSa7fcx",
        "outputId": "15039c25-ced8-4ce6-fc77-044ed5d6a917"
      },
      "execution_count": null,
      "outputs": [
        {
          "output_type": "stream",
          "name": "stdout",
          "text": [
            "0 Teste1\n",
            "1 Teste2\n"
          ]
        }
      ]
    },
    {
      "cell_type": "markdown",
      "source": [
        "## For com operadores compostos"
      ],
      "metadata": {
        "id": "S8xo7-vA74rG"
      }
    },
    {
      "cell_type": "code",
      "source": [
        "lista2 = [2,3,4]"
      ],
      "metadata": {
        "id": "XkeuqKFd8E6W"
      },
      "execution_count": null,
      "outputs": []
    },
    {
      "cell_type": "code",
      "source": [
        "for contador in lista2:\n",
        "  contador +=2\n",
        "  print(contador)"
      ],
      "metadata": {
        "colab": {
          "base_uri": "https://localhost:8080/"
        },
        "id": "PJebGkSr8KV-",
        "outputId": "7a8a47c5-959d-4607-f274-0be378e880fb"
      },
      "execution_count": null,
      "outputs": [
        {
          "output_type": "stream",
          "name": "stdout",
          "text": [
            "4\n",
            "5\n",
            "6\n"
          ]
        }
      ]
    },
    {
      "cell_type": "code",
      "source": [
        "for contador in lista2:\n",
        "  contador *=2\n",
        "  print(contador)"
      ],
      "metadata": {
        "colab": {
          "base_uri": "https://localhost:8080/"
        },
        "id": "JwUcO6hz8YoF",
        "outputId": "e818dbdf-3fd4-44b1-f2be-4f1efc0ed878"
      },
      "execution_count": null,
      "outputs": [
        {
          "output_type": "stream",
          "name": "stdout",
          "text": [
            "4\n",
            "6\n",
            "8\n"
          ]
        }
      ]
    },
    {
      "cell_type": "markdown",
      "source": [
        "##While"
      ],
      "metadata": {
        "id": "wJmWIlMW8o28"
      }
    },
    {
      "cell_type": "code",
      "source": [
        "valor = 1\n",
        "while(valor < 10):\n",
        "  valor *= 2\n",
        "  print(valor)"
      ],
      "metadata": {
        "colab": {
          "base_uri": "https://localhost:8080/"
        },
        "id": "zqq4dqAN8rZ3",
        "outputId": "37fdb546-3768-4543-b442-50897fc4c935"
      },
      "execution_count": null,
      "outputs": [
        {
          "output_type": "stream",
          "name": "stdout",
          "text": [
            "2\n",
            "4\n",
            "8\n",
            "16\n"
          ]
        }
      ]
    },
    {
      "cell_type": "code",
      "source": [
        "# While com else\n",
        "\n",
        "val = 1\n",
        "while val < 10:\n",
        "  val *= 2\n",
        "else:\n",
        "  print(\"Valor de val é:\" , val)"
      ],
      "metadata": {
        "colab": {
          "base_uri": "https://localhost:8080/"
        },
        "id": "mWmeGeR69WQk",
        "outputId": "b88d538d-90da-47ac-9eaf-a4ebbdbc00e9"
      },
      "execution_count": null,
      "outputs": [
        {
          "output_type": "stream",
          "name": "stdout",
          "text": [
            "Valor de val é: 16\n"
          ]
        }
      ]
    }
  ]
}